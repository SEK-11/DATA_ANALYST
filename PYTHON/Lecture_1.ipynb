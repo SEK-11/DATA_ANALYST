{
  "nbformat": 4,
  "nbformat_minor": 0,
  "metadata": {
    "colab": {
      "provenance": []
    },
    "kernelspec": {
      "name": "python3",
      "display_name": "Python 3"
    },
    "language_info": {
      "name": "python"
    }
  },
  "cells": [
    {
      "cell_type": "code",
      "execution_count": 1,
      "metadata": {
        "colab": {
          "base_uri": "https://localhost:8080/"
        },
        "id": "yBN3OBrdMHxo",
        "outputId": "b37dd304-b2b6-48b9-e2e1-8dbeed34ab3a"
      },
      "outputs": [
        {
          "output_type": "stream",
          "name": "stdout",
          "text": [
            "Hello world\n"
          ]
        }
      ],
      "source": [
        "print(\"Hello world\")"
      ]
    },
    {
      "cell_type": "code",
      "source": [
        "#welcome"
      ],
      "metadata": {
        "id": "CpC84AapPCEm"
      },
      "execution_count": 2,
      "outputs": []
    },
    {
      "cell_type": "code",
      "source": [
        "'''\n",
        "ljndnaa\n",
        "'''"
      ],
      "metadata": {
        "colab": {
          "base_uri": "https://localhost:8080/",
          "height": 36
        },
        "id": "GC6JpbliPKAJ",
        "outputId": "a791c4dc-f182-4bf8-dc81-52c91f24c76e"
      },
      "execution_count": 5,
      "outputs": [
        {
          "output_type": "execute_result",
          "data": {
            "text/plain": [
              "'\\nljndnaa \\n'"
            ],
            "application/vnd.google.colaboratory.intrinsic+json": {
              "type": "string"
            }
          },
          "metadata": {},
          "execution_count": 5
        }
      ]
    },
    {
      "cell_type": "code",
      "source": [
        "#variable\n",
        "a=10\n",
        "type(a)\n"
      ],
      "metadata": {
        "colab": {
          "base_uri": "https://localhost:8080/"
        },
        "id": "iK8QWIa-PMFB",
        "outputId": "e4085dfe-6468-422a-861d-40230526454e"
      },
      "execution_count": 7,
      "outputs": [
        {
          "output_type": "execute_result",
          "data": {
            "text/plain": [
              "int"
            ]
          },
          "metadata": {},
          "execution_count": 7
        }
      ]
    },
    {
      "cell_type": "code",
      "source": [
        "print(a)"
      ],
      "metadata": {
        "colab": {
          "base_uri": "https://localhost:8080/"
        },
        "id": "OODkQ6gtPWOT",
        "outputId": "e177078f-8c57-40dc-8899-5e7418b312b1"
      },
      "execution_count": 8,
      "outputs": [
        {
          "output_type": "stream",
          "name": "stdout",
          "text": [
            "10\n"
          ]
        }
      ]
    },
    {
      "cell_type": "code",
      "source": [
        "c=\"shantanu\""
      ],
      "metadata": {
        "id": "-0TaadbWPhVq"
      },
      "execution_count": 9,
      "outputs": []
    },
    {
      "cell_type": "code",
      "source": [
        "type(c)"
      ],
      "metadata": {
        "colab": {
          "base_uri": "https://localhost:8080/"
        },
        "id": "gR2Ks_KiPqW8",
        "outputId": "c00f94f6-f2cc-4898-def0-f38d53bb4ee9"
      },
      "execution_count": 10,
      "outputs": [
        {
          "output_type": "execute_result",
          "data": {
            "text/plain": [
              "str"
            ]
          },
          "metadata": {},
          "execution_count": 10
        }
      ]
    },
    {
      "cell_type": "code",
      "source": [
        "a =20"
      ],
      "metadata": {
        "id": "dPpg1lLBPsrJ"
      },
      "execution_count": 11,
      "outputs": []
    },
    {
      "cell_type": "code",
      "source": [
        "first_name=\"Shantanu\"\n",
        "print(first_name)\n"
      ],
      "metadata": {
        "colab": {
          "base_uri": "https://localhost:8080/"
        },
        "id": "ZYPM1O_ePypx",
        "outputId": "4eeecfd5-7537-44bd-85b9-fef9fd482869"
      },
      "execution_count": 13,
      "outputs": [
        {
          "output_type": "stream",
          "name": "stdout",
          "text": [
            "Shantanu\n"
          ]
        }
      ]
    },
    {
      "cell_type": "code",
      "source": [
        "#int\n",
        "a =10\n",
        "type(a)"
      ],
      "metadata": {
        "colab": {
          "base_uri": "https://localhost:8080/"
        },
        "id": "8U4qBLEfP-Ka",
        "outputId": "e845abeb-f176-4260-f19b-12a7896becec"
      },
      "execution_count": 14,
      "outputs": [
        {
          "output_type": "execute_result",
          "data": {
            "text/plain": [
              "int"
            ]
          },
          "metadata": {},
          "execution_count": 14
        }
      ]
    },
    {
      "cell_type": "code",
      "source": [
        "a+10"
      ],
      "metadata": {
        "colab": {
          "base_uri": "https://localhost:8080/"
        },
        "id": "k_cTkft8QL4A",
        "outputId": "2fa06ce1-02a9-4bf2-dc52-b87bacf62084"
      },
      "execution_count": 15,
      "outputs": [
        {
          "output_type": "execute_result",
          "data": {
            "text/plain": [
              "20"
            ]
          },
          "metadata": {},
          "execution_count": 15
        }
      ]
    },
    {
      "cell_type": "code",
      "source": [
        "a-20"
      ],
      "metadata": {
        "colab": {
          "base_uri": "https://localhost:8080/"
        },
        "id": "dyLA6BBVQN4J",
        "outputId": "8413ef37-4d60-40b6-d711-f6221759cfb4"
      },
      "execution_count": 16,
      "outputs": [
        {
          "output_type": "execute_result",
          "data": {
            "text/plain": [
              "-10"
            ]
          },
          "metadata": {},
          "execution_count": 16
        }
      ]
    },
    {
      "cell_type": "code",
      "source": [
        "a/10"
      ],
      "metadata": {
        "colab": {
          "base_uri": "https://localhost:8080/"
        },
        "id": "u0Py4b78QPxw",
        "outputId": "a63a127e-125b-40a4-e33e-70b8ca42442c"
      },
      "execution_count": 17,
      "outputs": [
        {
          "output_type": "execute_result",
          "data": {
            "text/plain": [
              "1.0"
            ]
          },
          "metadata": {},
          "execution_count": 17
        }
      ]
    },
    {
      "cell_type": "code",
      "source": [
        "a%10"
      ],
      "metadata": {
        "colab": {
          "base_uri": "https://localhost:8080/"
        },
        "id": "zAaEAeS9QSj0",
        "outputId": "18d25728-6dde-442b-9afe-54e6d9fe14b6"
      },
      "execution_count": 18,
      "outputs": [
        {
          "output_type": "execute_result",
          "data": {
            "text/plain": [
              "0"
            ]
          },
          "metadata": {},
          "execution_count": 18
        }
      ]
    },
    {
      "cell_type": "code",
      "source": [
        "a= 20\n",
        "b= 30\n",
        "print(a+b)"
      ],
      "metadata": {
        "colab": {
          "base_uri": "https://localhost:8080/"
        },
        "id": "woCF5k-UQVNA",
        "outputId": "215cfdaf-352d-4006-a56b-f99bd93cc16d"
      },
      "execution_count": 20,
      "outputs": [
        {
          "output_type": "stream",
          "name": "stdout",
          "text": [
            "50\n"
          ]
        }
      ]
    },
    {
      "cell_type": "code",
      "source": [
        "#floating\n",
        "a= 10.5\n",
        "a"
      ],
      "metadata": {
        "colab": {
          "base_uri": "https://localhost:8080/"
        },
        "id": "j62g4K9MQgjU",
        "outputId": "8efbf60d-e7e4-454f-e06c-fb9d7d09dbaa"
      },
      "execution_count": 22,
      "outputs": [
        {
          "output_type": "execute_result",
          "data": {
            "text/plain": [
              "10.5"
            ]
          },
          "metadata": {},
          "execution_count": 22
        }
      ]
    },
    {
      "cell_type": "code",
      "source": [
        "type(a)"
      ],
      "metadata": {
        "colab": {
          "base_uri": "https://localhost:8080/"
        },
        "id": "QbnOapxtQn-G",
        "outputId": "f25f6011-75a9-459c-d72b-7fe61f4d95a0"
      },
      "execution_count": 23,
      "outputs": [
        {
          "output_type": "execute_result",
          "data": {
            "text/plain": [
              "float"
            ]
          },
          "metadata": {},
          "execution_count": 23
        }
      ]
    },
    {
      "cell_type": "code",
      "source": [
        "#boolean\n",
        "\n",
        "a1= True\n",
        "b1= False"
      ],
      "metadata": {
        "id": "uY2tObvtQu2q"
      },
      "execution_count": 26,
      "outputs": []
    },
    {
      "cell_type": "code",
      "source": [
        "type(b1)"
      ],
      "metadata": {
        "colab": {
          "base_uri": "https://localhost:8080/"
        },
        "id": "7Y0sDNyTQ3Yp",
        "outputId": "effff8cf-47a6-48d6-f94a-9c1b3df07c38"
      },
      "execution_count": 27,
      "outputs": [
        {
          "output_type": "execute_result",
          "data": {
            "text/plain": [
              "bool"
            ]
          },
          "metadata": {},
          "execution_count": 27
        }
      ]
    },
    {
      "cell_type": "code",
      "source": [
        "a1|b1"
      ],
      "metadata": {
        "colab": {
          "base_uri": "https://localhost:8080/"
        },
        "id": "3pMdr-GoRBj1",
        "outputId": "71e2730e-97c0-4480-94b7-1d7cd112af58"
      },
      "execution_count": 28,
      "outputs": [
        {
          "output_type": "execute_result",
          "data": {
            "text/plain": [
              "True"
            ]
          },
          "metadata": {},
          "execution_count": 28
        }
      ]
    },
    {
      "cell_type": "code",
      "source": [
        "#string\n",
        "name1 = \"shantanu\"\n",
        "\n",
        "print(name1)"
      ],
      "metadata": {
        "colab": {
          "base_uri": "https://localhost:8080/"
        },
        "id": "jz7xQgP4RIR3",
        "outputId": "f49e9f1c-8394-49da-8177-d4cb2bb1b5de"
      },
      "execution_count": 29,
      "outputs": [
        {
          "output_type": "stream",
          "name": "stdout",
          "text": [
            "shantanu\n"
          ]
        }
      ]
    },
    {
      "cell_type": "code",
      "source": [
        "name1+\"kadam\""
      ],
      "metadata": {
        "colab": {
          "base_uri": "https://localhost:8080/",
          "height": 36
        },
        "id": "0Knco5kHRXYi",
        "outputId": "ccdd933a-440a-41f9-c61e-a3bd05699481"
      },
      "execution_count": 30,
      "outputs": [
        {
          "output_type": "execute_result",
          "data": {
            "text/plain": [
              "'shantanukadam'"
            ],
            "application/vnd.google.colaboratory.intrinsic+json": {
              "type": "string"
            }
          },
          "metadata": {},
          "execution_count": 30
        }
      ]
    },
    {
      "cell_type": "code",
      "source": [
        "name1 + str(10)"
      ],
      "metadata": {
        "colab": {
          "base_uri": "https://localhost:8080/",
          "height": 36
        },
        "id": "m1X-I-7GRbfN",
        "outputId": "9ba8f16c-ddac-4c29-fc0f-79ddc0c1105c"
      },
      "execution_count": 33,
      "outputs": [
        {
          "output_type": "execute_result",
          "data": {
            "text/plain": [
              "'shantanu10'"
            ],
            "application/vnd.google.colaboratory.intrinsic+json": {
              "type": "string"
            }
          },
          "metadata": {},
          "execution_count": 33
        }
      ]
    },
    {
      "cell_type": "code",
      "source": [
        "a_1 =10"
      ],
      "metadata": {
        "id": "LHquvJ1dRl9b"
      },
      "execution_count": 36,
      "outputs": []
    },
    {
      "cell_type": "code",
      "source": [
        "_a=10"
      ],
      "metadata": {
        "id": "Ik5G3RDbR-Gh"
      },
      "execution_count": 37,
      "outputs": []
    },
    {
      "cell_type": "code",
      "source": [
        "#complex numbers\n",
        "j=1.0-2.3j\n",
        "j"
      ],
      "metadata": {
        "colab": {
          "base_uri": "https://localhost:8080/"
        },
        "id": "CmSQ-N4OSEGQ",
        "outputId": "336ff466-aaa2-424d-8cd9-bfd2c510bcc9"
      },
      "execution_count": 38,
      "outputs": [
        {
          "output_type": "execute_result",
          "data": {
            "text/plain": [
              "(1-2.3j)"
            ]
          },
          "metadata": {},
          "execution_count": 38
        }
      ]
    },
    {
      "cell_type": "code",
      "source": [
        "print(j.real,j.imag)"
      ],
      "metadata": {
        "colab": {
          "base_uri": "https://localhost:8080/"
        },
        "id": "xuiLbfrhSZn9",
        "outputId": "96145f41-63bb-4974-aa8d-e2a7d1e69bef"
      },
      "execution_count": 39,
      "outputs": [
        {
          "output_type": "stream",
          "name": "stdout",
          "text": [
            "1.0 -2.3\n"
          ]
        }
      ]
    },
    {
      "cell_type": "code",
      "source": [
        "x=10\n",
        "print(type(x))"
      ],
      "metadata": {
        "colab": {
          "base_uri": "https://localhost:8080/"
        },
        "id": "3LztDHX0SoNi",
        "outputId": "c00376d6-b279-4a2f-fb5a-84b1011e8658"
      },
      "execution_count": 40,
      "outputs": [
        {
          "output_type": "stream",
          "name": "stdout",
          "text": [
            "<class 'int'>\n"
          ]
        }
      ]
    },
    {
      "cell_type": "code",
      "source": [
        "x=\"hello\"\n",
        "print(type(x))"
      ],
      "metadata": {
        "colab": {
          "base_uri": "https://localhost:8080/"
        },
        "id": "Gg5jTqHRS-tF",
        "outputId": "9d40686d-2fb9-4710-c0a7-abe49af70c5e"
      },
      "execution_count": 42,
      "outputs": [
        {
          "output_type": "stream",
          "name": "stdout",
          "text": [
            "<class 'str'>\n"
          ]
        }
      ]
    },
    {
      "cell_type": "code",
      "source": [
        "a=5\n",
        "type(a)"
      ],
      "metadata": {
        "colab": {
          "base_uri": "https://localhost:8080/"
        },
        "id": "VvytAFY2TBob",
        "outputId": "911287f3-30b3-4e2f-be00-064dff677514"
      },
      "execution_count": 44,
      "outputs": [
        {
          "output_type": "execute_result",
          "data": {
            "text/plain": [
              "int"
            ]
          },
          "metadata": {},
          "execution_count": 44
        }
      ]
    },
    {
      "cell_type": "code",
      "source": [
        "b=\"hello\""
      ],
      "metadata": {
        "id": "3VIyjf6ITR0Z"
      },
      "execution_count": 45,
      "outputs": []
    },
    {
      "cell_type": "code",
      "source": [
        "result= a+b\n",
        "print(result)"
      ],
      "metadata": {
        "colab": {
          "base_uri": "https://localhost:8080/",
          "height": 158
        },
        "id": "jFD4ZEP6TXHi",
        "outputId": "81ca3cd5-c78c-4aca-ad49-518bef18cbff"
      },
      "execution_count": 46,
      "outputs": [
        {
          "output_type": "error",
          "ename": "TypeError",
          "evalue": "unsupported operand type(s) for +: 'int' and 'str'",
          "traceback": [
            "\u001b[0;31m---------------------------------------------------------------------------\u001b[0m",
            "\u001b[0;31mTypeError\u001b[0m                                 Traceback (most recent call last)",
            "\u001b[0;32m<ipython-input-46-5bf68ccb85aa>\u001b[0m in \u001b[0;36m<cell line: 0>\u001b[0;34m()\u001b[0m\n\u001b[0;32m----> 1\u001b[0;31m \u001b[0mresult\u001b[0m\u001b[0;34m=\u001b[0m\u001b[0ma\u001b[0m\u001b[0;34m+\u001b[0m\u001b[0mb\u001b[0m\u001b[0;34m\u001b[0m\u001b[0;34m\u001b[0m\u001b[0m\n\u001b[0m\u001b[1;32m      2\u001b[0m \u001b[0mprint\u001b[0m\u001b[0;34m(\u001b[0m\u001b[0mresult\u001b[0m\u001b[0;34m)\u001b[0m\u001b[0;34m\u001b[0m\u001b[0;34m\u001b[0m\u001b[0m\n",
            "\u001b[0;31mTypeError\u001b[0m: unsupported operand type(s) for +: 'int' and 'str'"
          ]
        }
      ]
    },
    {
      "cell_type": "code",
      "source": [
        "result=str(a) +b"
      ],
      "metadata": {
        "id": "AwhG75DETf3w"
      },
      "execution_count": 49,
      "outputs": []
    },
    {
      "cell_type": "code",
      "source": [
        "type(result)"
      ],
      "metadata": {
        "colab": {
          "base_uri": "https://localhost:8080/"
        },
        "id": "RXTwRPXoT02_",
        "outputId": "938209bf-4069-4a79-fa2e-26745db9145c"
      },
      "execution_count": 50,
      "outputs": [
        {
          "output_type": "execute_result",
          "data": {
            "text/plain": [
              "str"
            ]
          },
          "metadata": {},
          "execution_count": 50
        }
      ]
    },
    {
      "cell_type": "markdown",
      "metadata": {
        "id": "db621cfd"
      },
      "source": [
        "There are several ways to format strings in Python:\n",
        "\n",
        "1.  **f-strings (formatted string literals):** This is the most modern and recommended way. You prefix the string with `f` and place variables or expressions inside curly braces `{}` within the string.\n",
        "\n",
        "2.  **`.format()` method:** This method allows you to use curly braces `{}` as placeholders and then pass the values to be inserted as arguments to the `.format()` method.\n",
        "\n",
        "3.  **%-formatting (printf-style formatting):** This is an older method that uses the modulo operator `%` with format specifiers (e.g., `%s` for string, `%d` for integer)."
      ]
    },
    {
      "cell_type": "code",
      "metadata": {
        "id": "ce2fc42e"
      },
      "source": [
        "# Example using f-strings\n",
        "name = \"Alice\"\n",
        "age = 30\n",
        "print(f\"My name is {name} and I am {age} years old.\")\n",
        "\n",
        "# Example using .format()\n",
        "city = \"New York\"\n",
        "print(\"I live in {}.\".format(city))\n",
        "\n",
        "# Example using %-formatting\n",
        "price = 19.99\n",
        "print(\"The price is $%.2f\" % price)"
      ],
      "execution_count": null,
      "outputs": []
    },
    {
      "cell_type": "code",
      "source": [
        "a=40\n",
        "print(\"The value of a is \",a)"
      ],
      "metadata": {
        "colab": {
          "base_uri": "https://localhost:8080/"
        },
        "id": "oxmX_9mQUSiQ",
        "outputId": "f8c7b3ff-b928-44f8-e7d1-6def782a0833"
      },
      "execution_count": 51,
      "outputs": [
        {
          "output_type": "stream",
          "name": "stdout",
          "text": [
            "The value of a is  40\n"
          ]
        }
      ]
    },
    {
      "cell_type": "code",
      "source": [
        "first_name= \"shantanu\"\n",
        "last_name =\" kadam\""
      ],
      "metadata": {
        "id": "jg9IVYaVUR0z"
      },
      "execution_count": 52,
      "outputs": []
    },
    {
      "cell_type": "markdown",
      "source": [],
      "metadata": {
        "id": "Z_jar0FNVKWY"
      }
    },
    {
      "cell_type": "code",
      "source": [
        "print(\"My first name is {a} and my last name is {b} \".format(a=first_name, b=last_name))"
      ],
      "metadata": {
        "colab": {
          "base_uri": "https://localhost:8080/"
        },
        "id": "T2sOHPavUm46",
        "outputId": "6f3324cc-8274-40ff-c50a-711a8931993f"
      },
      "execution_count": 56,
      "outputs": [
        {
          "output_type": "stream",
          "name": "stdout",
          "text": [
            "My first name is shantanu and my last name is  kadam \n"
          ]
        }
      ]
    },
    {
      "cell_type": "code",
      "source": [
        "#input typw\n",
        "input(\"enter a number\")"
      ],
      "metadata": {
        "colab": {
          "base_uri": "https://localhost:8080/",
          "height": 53
        },
        "id": "w6eFhkUuU3F-",
        "outputId": "b95815fc-ecfb-4ca4-dc24-924f7a8e0d23"
      },
      "execution_count": 57,
      "outputs": [
        {
          "name": "stdout",
          "output_type": "stream",
          "text": [
            "enter a number40\n"
          ]
        },
        {
          "output_type": "execute_result",
          "data": {
            "text/plain": [
              "'40'"
            ],
            "application/vnd.google.colaboratory.intrinsic+json": {
              "type": "string"
            }
          },
          "metadata": {},
          "execution_count": 57
        }
      ]
    },
    {
      "cell_type": "code",
      "source": [
        "a=input(\"enter a number A\")\n",
        "\n"
      ],
      "metadata": {
        "colab": {
          "base_uri": "https://localhost:8080/"
        },
        "id": "2oRoifHGVaej",
        "outputId": "6dfa4ec7-8ce1-49de-c9f7-78db8d5129db"
      },
      "execution_count": 58,
      "outputs": [
        {
          "name": "stdout",
          "output_type": "stream",
          "text": [
            "enter a number A10\n"
          ]
        }
      ]
    },
    {
      "cell_type": "code",
      "source": [
        "b= input (\"enter a number B\")"
      ],
      "metadata": {
        "colab": {
          "base_uri": "https://localhost:8080/"
        },
        "id": "HP8kK16lV3Hh",
        "outputId": "cf9c15c6-d0f4-4f18-a7d4-59e6cd84ef8c"
      },
      "execution_count": 59,
      "outputs": [
        {
          "name": "stdout",
          "output_type": "stream",
          "text": [
            "enter a number B20\n"
          ]
        }
      ]
    },
    {
      "cell_type": "code",
      "source": [
        "print (int(a)+int(b))"
      ],
      "metadata": {
        "colab": {
          "base_uri": "https://localhost:8080/"
        },
        "id": "awBSRlOrV_xg",
        "outputId": "461f240f-b92d-4ec5-e23b-5070f6debd70"
      },
      "execution_count": 61,
      "outputs": [
        {
          "output_type": "stream",
          "name": "stdout",
          "text": [
            "30\n"
          ]
        }
      ]
    },
    {
      "cell_type": "code",
      "source": [
        "#control flows\n",
        "#if\n",
        "val=input(\"enter number\")\n",
        "val_float=float(val)\n",
        "if(val_float%2==0):\n",
        "  print(\"the number is even\")"
      ],
      "metadata": {
        "colab": {
          "base_uri": "https://localhost:8080/"
        },
        "id": "oZIJ2VGnWC3S",
        "outputId": "44670dad-b41a-46c6-f646-a3546898aac6"
      },
      "execution_count": 64,
      "outputs": [
        {
          "name": "stdout",
          "output_type": "stream",
          "text": [
            "enter number3\n"
          ]
        }
      ]
    },
    {
      "cell_type": "code",
      "source": [
        "#if else\n",
        "val=input(\"enter number\")\n",
        "val_float=float(val)\n",
        "if(val_float%2==0):\n",
        "  print(\"the number is even\")\n",
        "else:\n",
        "  print(\"the number is odd\")"
      ],
      "metadata": {
        "colab": {
          "base_uri": "https://localhost:8080/"
        },
        "id": "y0X5tMbHW7TA",
        "outputId": "c41f75be-0709-4c0a-b5e8-d3e27fd79296"
      },
      "execution_count": 65,
      "outputs": [
        {
          "output_type": "stream",
          "name": "stdout",
          "text": [
            "enter number3\n",
            "the number is odd\n"
          ]
        }
      ]
    },
    {
      "cell_type": "code",
      "source": [
        "#nested if\n",
        "age = float(input(\"enter the number \"))\n",
        "\n",
        "if (age<18):\n",
        "  print (\"Teeager\")\n",
        "elif(age>18 and age<50):\n",
        "  print(\"Adult\")\n",
        "else:\n",
        "  print(\"senior citizen \")"
      ],
      "metadata": {
        "colab": {
          "base_uri": "https://localhost:8080/"
        },
        "id": "h3AAueBEXUfX",
        "outputId": "cf647ad9-2839-4f8b-9c32-9465e5dc036d"
      },
      "execution_count": 69,
      "outputs": [
        {
          "output_type": "stream",
          "name": "stdout",
          "text": [
            "enter the number 40\n",
            "Adult\n"
          ]
        }
      ]
    },
    {
      "cell_type": "code",
      "source": [
        "age = float(input(\"enter the number \"))\n",
        "\n",
        "if (age<18):\n",
        "  print (\"Teeager\")\n",
        "  if(age<15):\n",
        "    print(\"go to school\")\n",
        "  else:\n",
        "    print(\"you can go to college\")\n",
        "elif(age>18 and age<50):\n",
        "  print(\"Adult\")\n",
        "else:\n",
        "  print(\"senior citizen \")"
      ],
      "metadata": {
        "colab": {
          "base_uri": "https://localhost:8080/"
        },
        "id": "1FjA-w8zX3Kq",
        "outputId": "7dd8a66c-fa66-4d7a-8352-af0828e339c3"
      },
      "execution_count": 70,
      "outputs": [
        {
          "output_type": "stream",
          "name": "stdout",
          "text": [
            "enter the number 10\n",
            "Teeager\n",
            "go to school\n"
          ]
        }
      ]
    },
    {
      "cell_type": "code",
      "source": [],
      "metadata": {
        "id": "5z-8V9RPYe6f"
      },
      "execution_count": null,
      "outputs": []
    }
  ]
}